{
 "cells": [
  {
   "cell_type": "code",
   "execution_count": 1,
   "id": "5e2cd02a",
   "metadata": {},
   "outputs": [],
   "source": [
    "#import library\n",
    "import pandas as pd \n",
    "import numpy as np\n",
    "from sklearn.preprocessing import StandardScaler\n",
    "from sklearn.linear_model import LinearRegression\n",
    "import tensorflow as tf\n",
    "import matplotlib.pyplot as plt "
   ]
  },
  {
   "cell_type": "code",
   "execution_count": 2,
   "id": "c3a8980a",
   "metadata": {},
   "outputs": [
    {
     "data": {
      "text/html": [
       "<div>\n",
       "<style scoped>\n",
       "    .dataframe tbody tr th:only-of-type {\n",
       "        vertical-align: middle;\n",
       "    }\n",
       "\n",
       "    .dataframe tbody tr th {\n",
       "        vertical-align: top;\n",
       "    }\n",
       "\n",
       "    .dataframe thead th {\n",
       "        text-align: right;\n",
       "    }\n",
       "</style>\n",
       "<table border=\"1\" class=\"dataframe\">\n",
       "  <thead>\n",
       "    <tr style=\"text-align: right;\">\n",
       "      <th></th>\n",
       "      <th>Unnamed: 0</th>\n",
       "      <th>horsepower</th>\n",
       "      <th>price</th>\n",
       "    </tr>\n",
       "  </thead>\n",
       "  <tbody>\n",
       "    <tr>\n",
       "      <th>0</th>\n",
       "      <td>0</td>\n",
       "      <td>111.0</td>\n",
       "      <td>13495.0</td>\n",
       "    </tr>\n",
       "    <tr>\n",
       "      <th>1</th>\n",
       "      <td>1</td>\n",
       "      <td>111.0</td>\n",
       "      <td>16500.0</td>\n",
       "    </tr>\n",
       "    <tr>\n",
       "      <th>2</th>\n",
       "      <td>2</td>\n",
       "      <td>154.0</td>\n",
       "      <td>16500.0</td>\n",
       "    </tr>\n",
       "    <tr>\n",
       "      <th>3</th>\n",
       "      <td>3</td>\n",
       "      <td>102.0</td>\n",
       "      <td>13950.0</td>\n",
       "    </tr>\n",
       "    <tr>\n",
       "      <th>4</th>\n",
       "      <td>4</td>\n",
       "      <td>115.0</td>\n",
       "      <td>17450.0</td>\n",
       "    </tr>\n",
       "  </tbody>\n",
       "</table>\n",
       "</div>"
      ],
      "text/plain": [
       "   Unnamed: 0  horsepower    price\n",
       "0           0       111.0  13495.0\n",
       "1           1       111.0  16500.0\n",
       "2           2       154.0  16500.0\n",
       "3           3       102.0  13950.0\n",
       "4           4       115.0  17450.0"
      ]
     },
     "execution_count": 2,
     "metadata": {},
     "output_type": "execute_result"
    }
   ],
   "source": [
    "#import data\n",
    "df = pd.read_csv('datamobil.csv',sep = ';',encoding = 'UTF-8')\n",
    "df.head()"
   ]
  },
  {
   "cell_type": "code",
   "execution_count": 3,
   "id": "321ff5d2",
   "metadata": {},
   "outputs": [],
   "source": [
    "#drop 'Unnamed: 0' columns\n",
    "df = df.drop(columns = ['Unnamed: 0'])"
   ]
  },
  {
   "cell_type": "code",
   "execution_count": 4,
   "id": "b90ec9c4",
   "metadata": {},
   "outputs": [],
   "source": [
    "#copying the data into the new variable df1\n",
    "df1 = df.copy()"
   ]
  },
  {
   "cell_type": "code",
   "execution_count": 5,
   "id": "ae386bd6",
   "metadata": {},
   "outputs": [],
   "source": [
    "#variable \"rata_harga\" used for grouping the mean of the price \n",
    "rata_harga = df1.groupby('horsepower')['price'].mean().reset_index()\n",
    "#rename the \"price\" columns into \"rata harga\"\n",
    "rata_harga = rata_harga.rename(columns={'price': 'rata harga'})\n",
    "#merge the dataset with rata_harga\n",
    "df1 = df1.merge(rata_harga, on='horsepower', how='left')\n",
    "#drop the \"price\" column\n",
    "df1 = df1.drop(columns = ['price'])"
   ]
  },
  {
   "cell_type": "code",
   "execution_count": 6,
   "id": "d9159bdc",
   "metadata": {},
   "outputs": [],
   "source": [
    "#split into train data and test data\n",
    "x = np.array(df1['horsepower']).reshape(-1,1)\n",
    "y = np.array(df1['rata harga']).reshape(-1,1)"
   ]
  },
  {
   "cell_type": "code",
   "execution_count": 7,
   "id": "a6e60f27",
   "metadata": {},
   "outputs": [],
   "source": [
    "#initialize the linear regression to variable \"lr\"\n",
    "lr = LinearRegression()"
   ]
  },
  {
   "cell_type": "code",
   "execution_count": 8,
   "id": "f3fbeb4d",
   "metadata": {},
   "outputs": [],
   "source": [
    "#initialize the Standard Scaler to variable \"scaler\"\n",
    "scaler = StandardScaler()"
   ]
  },
  {
   "cell_type": "code",
   "execution_count": 9,
   "id": "355d4175",
   "metadata": {},
   "outputs": [
    {
     "data": {
      "text/plain": [
       "142"
      ]
     },
     "execution_count": 9,
     "metadata": {},
     "output_type": "execute_result"
    }
   ],
   "source": [
    "#find the sum of duplicated data\n",
    "df1.duplicated().sum()"
   ]
  },
  {
   "cell_type": "code",
   "execution_count": 10,
   "id": "719bb586",
   "metadata": {},
   "outputs": [],
   "source": [
    "#drop the value of duplicates \n",
    "df1 = df1.drop_duplicates()"
   ]
  },
  {
   "cell_type": "code",
   "execution_count": 11,
   "id": "d0676ae5",
   "metadata": {},
   "outputs": [],
   "source": [
    "#scalling the data\n",
    "x_fit = scaler.fit_transform(x)\n",
    "y_fit = scaler.fit_transform(y)"
   ]
  },
  {
   "cell_type": "code",
   "execution_count": 12,
   "id": "a9173cd3",
   "metadata": {},
   "outputs": [],
   "source": [
    "#fitting the data into the model\n",
    "model = lr.fit(x_fit, y_fit)\n",
    "a = model.coef_[0]\n",
    "b = model.intercept_"
   ]
  },
  {
   "cell_type": "code",
   "execution_count": 13,
   "id": "c7159029",
   "metadata": {},
   "outputs": [
    {
     "name": "stdout",
     "output_type": "stream",
     "text": [
      "a = [0.83125408]\n",
      "b = [-1.36585858e-16]\n"
     ]
    }
   ],
   "source": [
    "print('a = {}'.format(a))\n",
    "print('b = {}'.format(b))"
   ]
  },
  {
   "cell_type": "code",
   "execution_count": 14,
   "id": "eeeaa523",
   "metadata": {},
   "outputs": [],
   "source": [
    "#predict the data\n",
    "predicted = model.predict(x_fit)"
   ]
  },
  {
   "cell_type": "code",
   "execution_count": 15,
   "id": "9d800dd7",
   "metadata": {
    "scrolled": false
   },
   "outputs": [
    {
     "name": "stdout",
     "output_type": "stream",
     "text": [
      "[[ 0.170811  ]\n",
      " [ 0.170811  ]\n",
      " [ 1.12717467]\n",
      " [-0.02935814]\n",
      " [ 0.25977506]]\n"
     ]
    }
   ],
   "source": [
    "print(predicted[:5])"
   ]
  },
  {
   "cell_type": "code",
   "execution_count": 16,
   "id": "2e5ecfd3",
   "metadata": {},
   "outputs": [],
   "source": [
    "#importing the scikit learn metrics for the losses and estimation\n",
    "from sklearn.metrics import mean_squared_error, r2_score, mean_absolute_error"
   ]
  },
  {
   "cell_type": "code",
   "execution_count": 17,
   "id": "704db537",
   "metadata": {},
   "outputs": [
    {
     "name": "stdout",
     "output_type": "stream",
     "text": [
      "mae = 0.36\n",
      "mse = 0.31\n",
      "rmse = 0.56\n",
      "r2 score = 0.69\n"
     ]
    }
   ],
   "source": [
    "# calculating mse \n",
    "mse = mean_squared_error(y_fit,predicted)\n",
    "# calculating RMSE\n",
    "rmse = np.sqrt(mse)\n",
    "\n",
    "# calculating R2\n",
    "r2 = r2_score(y_fit, predicted)\n",
    "\n",
    "# calculating mae \n",
    "mae = mean_absolute_error(y_fit, predicted)\n",
    "\n",
    "print('mae =',round(mae,2))\n",
    "print('mse =',round(mse,2))\n",
    "print('rmse =',np.round(rmse,2))\n",
    "print('r2 score =',np.round(r2,2))"
   ]
  },
  {
   "cell_type": "code",
   "execution_count": 18,
   "id": "22e7968f",
   "metadata": {},
   "outputs": [],
   "source": [
    "#initialize the normalization in tensorflow\n",
    "normalizer = tf.keras.layers.Normalization(axis = -1)"
   ]
  },
  {
   "cell_type": "code",
   "execution_count": 19,
   "id": "8b3451c4",
   "metadata": {},
   "outputs": [],
   "source": [
    "#normalization data \n",
    "normalizer.adapt(np.array(df1).reshape(-1,1))"
   ]
  },
  {
   "cell_type": "code",
   "execution_count": 20,
   "id": "badc4d8f",
   "metadata": {},
   "outputs": [
    {
     "name": "stdout",
     "output_type": "stream",
     "text": [
      "[[7791.2285]]\n"
     ]
    }
   ],
   "source": [
    "print(normalizer.mean.numpy())"
   ]
  },
  {
   "cell_type": "code",
   "execution_count": 21,
   "id": "7d80a05e",
   "metadata": {},
   "outputs": [
    {
     "name": "stdout",
     "output_type": "stream",
     "text": [
      "First example:    horsepower  rata harga\n",
      "0       111.0     13237.0\n",
      "\n",
      "Normalized: [[-0.77  0.55]]\n"
     ]
    }
   ],
   "source": [
    "first = df1[:1]\n",
    "\n",
    "with np.printoptions(precision=2, suppress=True):\n",
    "    print('First example:', first)\n",
    "    print()\n",
    "    print('Normalized:', normalizer(first).numpy())"
   ]
  },
  {
   "cell_type": "code",
   "execution_count": 22,
   "id": "6d6df1a8",
   "metadata": {},
   "outputs": [
    {
     "name": "stdout",
     "output_type": "stream",
     "text": [
      "Model: \"sequential\"\n",
      "_________________________________________________________________\n",
      " Layer (type)                Output Shape              Param #   \n",
      "=================================================================\n",
      " dense (Dense)               (None, 1)                 2         \n",
      "                                                                 \n",
      "=================================================================\n",
      "Total params: 2\n",
      "Trainable params: 2\n",
      "Non-trainable params: 0\n",
      "_________________________________________________________________\n"
     ]
    }
   ],
   "source": [
    "#made model\n",
    "tensorflow_model = tf.keras.Sequential([\n",
    "    tf.keras.layers.Dense(units=1, input_shape = [1])\n",
    "])\n",
    "\n",
    "#model summary\n",
    "tensorflow_model.summary()"
   ]
  },
  {
   "cell_type": "code",
   "execution_count": 23,
   "id": "7e829fa3",
   "metadata": {},
   "outputs": [],
   "source": [
    "#decide the optimizer and loss method\n",
    "tensorflow_model.compile(\n",
    "    optimizer=tf.keras.optimizers.Adam(learning_rate=0.1),\n",
    "    loss='mean_absolute_error', metrics = ['mae'])"
   ]
  },
  {
   "cell_type": "code",
   "execution_count": 24,
   "id": "5295e4f3",
   "metadata": {},
   "outputs": [
    {
     "name": "stdout",
     "output_type": "stream",
     "text": [
      "Epoch 1/10\n",
      "7/7 [==============================] - 1s 3ms/step - loss: 1.0821 - mae: 1.0821\n",
      "Epoch 2/10\n",
      "7/7 [==============================] - 0s 3ms/step - loss: 0.5852 - mae: 0.5852\n",
      "Epoch 3/10\n",
      "7/7 [==============================] - 0s 2ms/step - loss: 0.3821 - mae: 0.3821\n",
      "Epoch 4/10\n",
      "7/7 [==============================] - 0s 3ms/step - loss: 0.3992 - mae: 0.3992\n",
      "Epoch 5/10\n",
      "7/7 [==============================] - 0s 3ms/step - loss: 0.3778 - mae: 0.3778\n",
      "Epoch 6/10\n",
      "7/7 [==============================] - 0s 3ms/step - loss: 0.3602 - mae: 0.3602\n",
      "Epoch 7/10\n",
      "7/7 [==============================] - 0s 2ms/step - loss: 0.3646 - mae: 0.3646\n",
      "Epoch 8/10\n",
      "7/7 [==============================] - 0s 3ms/step - loss: 0.3599 - mae: 0.3599\n",
      "Epoch 9/10\n",
      "7/7 [==============================] - 0s 3ms/step - loss: 0.3670 - mae: 0.3670\n",
      "Epoch 10/10\n",
      "7/7 [==============================] - 0s 4ms/step - loss: 0.3606 - mae: 0.3606\n"
     ]
    },
    {
     "data": {
      "text/plain": [
       "<keras.callbacks.History at 0x1c62272e110>"
      ]
     },
     "execution_count": 24,
     "metadata": {},
     "output_type": "execute_result"
    }
   ],
   "source": [
    "#fitting the data into the model\n",
    "tensorflow_model.fit(\n",
    "    x_fit,\n",
    "    y_fit,\n",
    "    epochs=10,\n",
    "    # Suppress logging.\n",
    "    verbose='auto',\n",
    "    # Calculate validation results on 20% of the training data.\n",
    "    validation_data = None)"
   ]
  },
  {
   "cell_type": "markdown",
   "id": "435cefda",
   "metadata": {},
   "source": [
    "as we can see that in the mean absolute error/mae for scikit-learn is 0.36 and in tensorflow 0.36, \n",
    "means that linear regresion in tensorflow and scikit-learn is same.\n",
    "perhaps we can add some layers or change the losses and optimizer method. \n",
    "and add some parameter for more accuracy"
   ]
  }
 ],
 "metadata": {
  "kernelspec": {
   "display_name": "Python 3 (ipykernel)",
   "language": "python",
   "name": "python3"
  },
  "language_info": {
   "codemirror_mode": {
    "name": "ipython",
    "version": 3
   },
   "file_extension": ".py",
   "mimetype": "text/x-python",
   "name": "python",
   "nbconvert_exporter": "python",
   "pygments_lexer": "ipython3",
   "version": "3.10.5"
  }
 },
 "nbformat": 4,
 "nbformat_minor": 5
}
